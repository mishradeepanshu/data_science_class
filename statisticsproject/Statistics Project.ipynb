{
 "cells": [
  {
   "cell_type": "code",
   "execution_count": 1,
   "id": "860d978a",
   "metadata": {},
   "outputs": [],
   "source": [
    "import pandas as pd"
   ]
  },
  {
   "cell_type": "code",
   "execution_count": 2,
   "id": "b2ba5e5d",
   "metadata": {},
   "outputs": [],
   "source": [
    "data = pd.read_csv('survey_results_public.csv')"
   ]
  },
  {
   "cell_type": "code",
   "execution_count": 3,
   "id": "44502789",
   "metadata": {},
   "outputs": [
    {
     "data": {
      "text/html": [
       "<div>\n",
       "<style scoped>\n",
       "    .dataframe tbody tr th:only-of-type {\n",
       "        vertical-align: middle;\n",
       "    }\n",
       "\n",
       "    .dataframe tbody tr th {\n",
       "        vertical-align: top;\n",
       "    }\n",
       "\n",
       "    .dataframe thead th {\n",
       "        text-align: right;\n",
       "    }\n",
       "</style>\n",
       "<table border=\"1\" class=\"dataframe\">\n",
       "  <thead>\n",
       "    <tr style=\"text-align: right;\">\n",
       "      <th></th>\n",
       "      <th>Respondent</th>\n",
       "      <th>MainBranch</th>\n",
       "      <th>Hobbyist</th>\n",
       "      <th>OpenSourcer</th>\n",
       "      <th>OpenSource</th>\n",
       "      <th>Employment</th>\n",
       "      <th>Country</th>\n",
       "      <th>Student</th>\n",
       "      <th>EdLevel</th>\n",
       "      <th>UndergradMajor</th>\n",
       "      <th>...</th>\n",
       "      <th>WelcomeChange</th>\n",
       "      <th>SONewContent</th>\n",
       "      <th>Age</th>\n",
       "      <th>Gender</th>\n",
       "      <th>Trans</th>\n",
       "      <th>Sexuality</th>\n",
       "      <th>Ethnicity</th>\n",
       "      <th>Dependents</th>\n",
       "      <th>SurveyLength</th>\n",
       "      <th>SurveyEase</th>\n",
       "    </tr>\n",
       "  </thead>\n",
       "  <tbody>\n",
       "    <tr>\n",
       "      <th>0</th>\n",
       "      <td>1</td>\n",
       "      <td>I am a student who is learning to code</td>\n",
       "      <td>Yes</td>\n",
       "      <td>Never</td>\n",
       "      <td>The quality of OSS and closed source software ...</td>\n",
       "      <td>Not employed, and not looking for work</td>\n",
       "      <td>United Kingdom</td>\n",
       "      <td>No</td>\n",
       "      <td>Primary/elementary school</td>\n",
       "      <td>NaN</td>\n",
       "      <td>...</td>\n",
       "      <td>Just as welcome now as I felt last year</td>\n",
       "      <td>Tech articles written by other developers;Indu...</td>\n",
       "      <td>14.0</td>\n",
       "      <td>Man</td>\n",
       "      <td>No</td>\n",
       "      <td>Straight / Heterosexual</td>\n",
       "      <td>NaN</td>\n",
       "      <td>No</td>\n",
       "      <td>Appropriate in length</td>\n",
       "      <td>Neither easy nor difficult</td>\n",
       "    </tr>\n",
       "    <tr>\n",
       "      <th>1</th>\n",
       "      <td>2</td>\n",
       "      <td>I am a student who is learning to code</td>\n",
       "      <td>No</td>\n",
       "      <td>Less than once per year</td>\n",
       "      <td>The quality of OSS and closed source software ...</td>\n",
       "      <td>Not employed, but looking for work</td>\n",
       "      <td>Bosnia and Herzegovina</td>\n",
       "      <td>Yes, full-time</td>\n",
       "      <td>Secondary school (e.g. American high school, G...</td>\n",
       "      <td>NaN</td>\n",
       "      <td>...</td>\n",
       "      <td>Just as welcome now as I felt last year</td>\n",
       "      <td>Tech articles written by other developers;Indu...</td>\n",
       "      <td>19.0</td>\n",
       "      <td>Man</td>\n",
       "      <td>No</td>\n",
       "      <td>Straight / Heterosexual</td>\n",
       "      <td>NaN</td>\n",
       "      <td>No</td>\n",
       "      <td>Appropriate in length</td>\n",
       "      <td>Neither easy nor difficult</td>\n",
       "    </tr>\n",
       "    <tr>\n",
       "      <th>2</th>\n",
       "      <td>3</td>\n",
       "      <td>I am not primarily a developer, but I write co...</td>\n",
       "      <td>Yes</td>\n",
       "      <td>Never</td>\n",
       "      <td>The quality of OSS and closed source software ...</td>\n",
       "      <td>Employed full-time</td>\n",
       "      <td>Thailand</td>\n",
       "      <td>No</td>\n",
       "      <td>Bachelor’s degree (BA, BS, B.Eng., etc.)</td>\n",
       "      <td>Web development or web design</td>\n",
       "      <td>...</td>\n",
       "      <td>Just as welcome now as I felt last year</td>\n",
       "      <td>Tech meetups or events in your area;Courses on...</td>\n",
       "      <td>28.0</td>\n",
       "      <td>Man</td>\n",
       "      <td>No</td>\n",
       "      <td>Straight / Heterosexual</td>\n",
       "      <td>NaN</td>\n",
       "      <td>Yes</td>\n",
       "      <td>Appropriate in length</td>\n",
       "      <td>Neither easy nor difficult</td>\n",
       "    </tr>\n",
       "    <tr>\n",
       "      <th>3</th>\n",
       "      <td>4</td>\n",
       "      <td>I am a developer by profession</td>\n",
       "      <td>No</td>\n",
       "      <td>Never</td>\n",
       "      <td>The quality of OSS and closed source software ...</td>\n",
       "      <td>Employed full-time</td>\n",
       "      <td>United States</td>\n",
       "      <td>No</td>\n",
       "      <td>Bachelor’s degree (BA, BS, B.Eng., etc.)</td>\n",
       "      <td>Computer science, computer engineering, or sof...</td>\n",
       "      <td>...</td>\n",
       "      <td>Just as welcome now as I felt last year</td>\n",
       "      <td>Tech articles written by other developers;Indu...</td>\n",
       "      <td>22.0</td>\n",
       "      <td>Man</td>\n",
       "      <td>No</td>\n",
       "      <td>Straight / Heterosexual</td>\n",
       "      <td>White or of European descent</td>\n",
       "      <td>No</td>\n",
       "      <td>Appropriate in length</td>\n",
       "      <td>Easy</td>\n",
       "    </tr>\n",
       "    <tr>\n",
       "      <th>4</th>\n",
       "      <td>5</td>\n",
       "      <td>I am a developer by profession</td>\n",
       "      <td>Yes</td>\n",
       "      <td>Once a month or more often</td>\n",
       "      <td>OSS is, on average, of HIGHER quality than pro...</td>\n",
       "      <td>Employed full-time</td>\n",
       "      <td>Ukraine</td>\n",
       "      <td>No</td>\n",
       "      <td>Bachelor’s degree (BA, BS, B.Eng., etc.)</td>\n",
       "      <td>Computer science, computer engineering, or sof...</td>\n",
       "      <td>...</td>\n",
       "      <td>Just as welcome now as I felt last year</td>\n",
       "      <td>Tech meetups or events in your area;Courses on...</td>\n",
       "      <td>30.0</td>\n",
       "      <td>Man</td>\n",
       "      <td>No</td>\n",
       "      <td>Straight / Heterosexual</td>\n",
       "      <td>White or of European descent;Multiracial</td>\n",
       "      <td>No</td>\n",
       "      <td>Appropriate in length</td>\n",
       "      <td>Easy</td>\n",
       "    </tr>\n",
       "  </tbody>\n",
       "</table>\n",
       "<p>5 rows × 85 columns</p>\n",
       "</div>"
      ],
      "text/plain": [
       "   Respondent                                         MainBranch Hobbyist  \\\n",
       "0           1             I am a student who is learning to code      Yes   \n",
       "1           2             I am a student who is learning to code       No   \n",
       "2           3  I am not primarily a developer, but I write co...      Yes   \n",
       "3           4                     I am a developer by profession       No   \n",
       "4           5                     I am a developer by profession      Yes   \n",
       "\n",
       "                  OpenSourcer  \\\n",
       "0                       Never   \n",
       "1     Less than once per year   \n",
       "2                       Never   \n",
       "3                       Never   \n",
       "4  Once a month or more often   \n",
       "\n",
       "                                          OpenSource  \\\n",
       "0  The quality of OSS and closed source software ...   \n",
       "1  The quality of OSS and closed source software ...   \n",
       "2  The quality of OSS and closed source software ...   \n",
       "3  The quality of OSS and closed source software ...   \n",
       "4  OSS is, on average, of HIGHER quality than pro...   \n",
       "\n",
       "                               Employment                 Country  \\\n",
       "0  Not employed, and not looking for work          United Kingdom   \n",
       "1      Not employed, but looking for work  Bosnia and Herzegovina   \n",
       "2                      Employed full-time                Thailand   \n",
       "3                      Employed full-time           United States   \n",
       "4                      Employed full-time                 Ukraine   \n",
       "\n",
       "          Student                                            EdLevel  \\\n",
       "0              No                          Primary/elementary school   \n",
       "1  Yes, full-time  Secondary school (e.g. American high school, G...   \n",
       "2              No           Bachelor’s degree (BA, BS, B.Eng., etc.)   \n",
       "3              No           Bachelor’s degree (BA, BS, B.Eng., etc.)   \n",
       "4              No           Bachelor’s degree (BA, BS, B.Eng., etc.)   \n",
       "\n",
       "                                      UndergradMajor  ...  \\\n",
       "0                                                NaN  ...   \n",
       "1                                                NaN  ...   \n",
       "2                      Web development or web design  ...   \n",
       "3  Computer science, computer engineering, or sof...  ...   \n",
       "4  Computer science, computer engineering, or sof...  ...   \n",
       "\n",
       "                             WelcomeChange  \\\n",
       "0  Just as welcome now as I felt last year   \n",
       "1  Just as welcome now as I felt last year   \n",
       "2  Just as welcome now as I felt last year   \n",
       "3  Just as welcome now as I felt last year   \n",
       "4  Just as welcome now as I felt last year   \n",
       "\n",
       "                                        SONewContent   Age Gender Trans  \\\n",
       "0  Tech articles written by other developers;Indu...  14.0    Man    No   \n",
       "1  Tech articles written by other developers;Indu...  19.0    Man    No   \n",
       "2  Tech meetups or events in your area;Courses on...  28.0    Man    No   \n",
       "3  Tech articles written by other developers;Indu...  22.0    Man    No   \n",
       "4  Tech meetups or events in your area;Courses on...  30.0    Man    No   \n",
       "\n",
       "                 Sexuality                                 Ethnicity  \\\n",
       "0  Straight / Heterosexual                                       NaN   \n",
       "1  Straight / Heterosexual                                       NaN   \n",
       "2  Straight / Heterosexual                                       NaN   \n",
       "3  Straight / Heterosexual              White or of European descent   \n",
       "4  Straight / Heterosexual  White or of European descent;Multiracial   \n",
       "\n",
       "  Dependents           SurveyLength                  SurveyEase  \n",
       "0         No  Appropriate in length  Neither easy nor difficult  \n",
       "1         No  Appropriate in length  Neither easy nor difficult  \n",
       "2        Yes  Appropriate in length  Neither easy nor difficult  \n",
       "3         No  Appropriate in length                        Easy  \n",
       "4         No  Appropriate in length                        Easy  \n",
       "\n",
       "[5 rows x 85 columns]"
      ]
     },
     "execution_count": 3,
     "metadata": {},
     "output_type": "execute_result"
    }
   ],
   "source": [
    "data.head()"
   ]
  },
  {
   "cell_type": "code",
   "execution_count": 4,
   "id": "2a2d7c5d",
   "metadata": {},
   "outputs": [
    {
     "data": {
      "text/plain": [
       "(88883, 85)"
      ]
     },
     "execution_count": 4,
     "metadata": {},
     "output_type": "execute_result"
    }
   ],
   "source": [
    "data.shape"
   ]
  },
  {
   "cell_type": "code",
   "execution_count": 5,
   "id": "fa80e3db",
   "metadata": {},
   "outputs": [],
   "source": [
    "data1 = pd.read_csv('survey_results_schema.csv')"
   ]
  },
  {
   "cell_type": "code",
   "execution_count": 6,
   "id": "30cc406d",
   "metadata": {},
   "outputs": [
    {
     "data": {
      "text/plain": [
       "(85, 2)"
      ]
     },
     "execution_count": 6,
     "metadata": {},
     "output_type": "execute_result"
    }
   ],
   "source": [
    "data1.shape"
   ]
  },
  {
   "cell_type": "code",
   "execution_count": 7,
   "id": "3313907e",
   "metadata": {},
   "outputs": [
    {
     "data": {
      "text/html": [
       "<div>\n",
       "<style scoped>\n",
       "    .dataframe tbody tr th:only-of-type {\n",
       "        vertical-align: middle;\n",
       "    }\n",
       "\n",
       "    .dataframe tbody tr th {\n",
       "        vertical-align: top;\n",
       "    }\n",
       "\n",
       "    .dataframe thead th {\n",
       "        text-align: right;\n",
       "    }\n",
       "</style>\n",
       "<table border=\"1\" class=\"dataframe\">\n",
       "  <thead>\n",
       "    <tr style=\"text-align: right;\">\n",
       "      <th></th>\n",
       "      <th>Column</th>\n",
       "      <th>QuestionText</th>\n",
       "    </tr>\n",
       "  </thead>\n",
       "  <tbody>\n",
       "    <tr>\n",
       "      <th>0</th>\n",
       "      <td>Respondent</td>\n",
       "      <td>Randomized respondent ID number (not in order ...</td>\n",
       "    </tr>\n",
       "    <tr>\n",
       "      <th>1</th>\n",
       "      <td>MainBranch</td>\n",
       "      <td>Which of the following options best describes ...</td>\n",
       "    </tr>\n",
       "    <tr>\n",
       "      <th>2</th>\n",
       "      <td>Hobbyist</td>\n",
       "      <td>Do you code as a hobby?</td>\n",
       "    </tr>\n",
       "    <tr>\n",
       "      <th>3</th>\n",
       "      <td>OpenSourcer</td>\n",
       "      <td>How often do you contribute to open source?</td>\n",
       "    </tr>\n",
       "    <tr>\n",
       "      <th>4</th>\n",
       "      <td>OpenSource</td>\n",
       "      <td>How do you feel about the quality of open sour...</td>\n",
       "    </tr>\n",
       "  </tbody>\n",
       "</table>\n",
       "</div>"
      ],
      "text/plain": [
       "        Column                                       QuestionText\n",
       "0   Respondent  Randomized respondent ID number (not in order ...\n",
       "1   MainBranch  Which of the following options best describes ...\n",
       "2     Hobbyist                            Do you code as a hobby?\n",
       "3  OpenSourcer        How often do you contribute to open source?\n",
       "4   OpenSource  How do you feel about the quality of open sour..."
      ]
     },
     "execution_count": 7,
     "metadata": {},
     "output_type": "execute_result"
    }
   ],
   "source": [
    "data1.head()"
   ]
  },
  {
   "cell_type": "markdown",
   "id": "3518f412",
   "metadata": {},
   "source": [
    "## 1. Find the average age of developers when they wrote their first line of code."
   ]
  },
  {
   "cell_type": "code",
   "execution_count": 11,
   "id": "1d925674",
   "metadata": {},
   "outputs": [
    {
     "name": "stdout",
     "output_type": "stream",
     "text": [
      "the average age of developers when they wrote their first line of code:- 15.46\n"
     ]
    }
   ],
   "source": [
    "#converting into numerical column contains null and string value\n",
    "data['Age1stCode'] = pd.to_numeric(data['Age1stCode'], errors='coerce')\n",
    "\n",
    "print(\"the average age of developers when they wrote their first line of code:-\",round(data['Age1stCode'].mean(),2))"
   ]
  },
  {
   "cell_type": "markdown",
   "id": "7deb6233",
   "metadata": {},
   "source": [
    "## 2. Deduce the percentage of developers who know python in each country."
   ]
  },
  {
   "cell_type": "code",
   "execution_count": 16,
   "id": "7337a69c",
   "metadata": {},
   "outputs": [
    {
     "name": "stdout",
     "output_type": "stream",
     "text": [
      "the percentage of developers who know python in each country:- Afghanistan                             18.181818\n",
      "Albania                                 26.744186\n",
      "Algeria                                 29.850746\n",
      "Andorra                                       NaN\n",
      "Angola                                  40.000000\n",
      "                                          ...    \n",
      "Venezuela, Bolivarian Republic of...    31.818182\n",
      "Viet Nam                                33.766234\n",
      "Yemen                                   15.789474\n",
      "Zambia                                  33.333333\n",
      "Zimbabwe                                35.897436\n",
      "Name: Country, Length: 179, dtype: float64\n"
     ]
    }
   ],
   "source": [
    "users_by_country = data[data['LanguageWorkedWith'].str.contains('Python', na=False)]   #extracting python word from languageworkedwith\n",
    "\n",
    "percentage_of_python= (users_by_country['Country'].value_counts() / data['Country'].value_counts()) * 100 # taking out the percentage of developer using the language python respect to country\n",
    "\n",
    "print(\"the percentage of developers who know python in each country:-\",percentage_of_python)\n"
   ]
  },
  {
   "cell_type": "markdown",
   "id": "e604cc7a",
   "metadata": {},
   "source": [
    "## 3. In which countries do developers work the highest number of hours per week? Consider countries with more than 250 responses only."
   ]
  },
  {
   "cell_type": "code",
   "execution_count": 20,
   "id": "e80a5d59",
   "metadata": {},
   "outputs": [
    {
     "name": "stdout",
     "output_type": "stream",
     "text": [
      "countries do developers work the highest number of hour per week: Country\n",
      "Finland               82.790865\n",
      "Norway                76.439943\n",
      "Austria               63.688552\n",
      "Sweden                46.969311\n",
      "Iran                  46.677824\n",
      "Switzerland           46.377230\n",
      "Israel                45.593069\n",
      "Sri Lanka             45.422170\n",
      "Slovakia              44.790698\n",
      "Poland                44.609879\n",
      "Turkey                44.467500\n",
      "China                 44.322815\n",
      "Slovenia              43.600000\n",
      "South Africa          42.951646\n",
      "Egypt                 42.878613\n",
      "Malaysia              42.530220\n",
      "Greece                42.325485\n",
      "India                 42.203159\n",
      "United States         42.106687\n",
      "Czech Republic        42.030088\n",
      "Ukraine               41.983994\n",
      "Singapore             41.833659\n",
      "Belgium               41.771062\n",
      "Japan                 41.326858\n",
      "Denmark               41.113786\n",
      "Romania               41.018553\n",
      "France                40.850320\n",
      "Bulgaria              40.790965\n",
      "Bangladesh            40.760123\n",
      "Russian Federation    40.573128\n",
      "Croatia               40.563131\n",
      "Serbia                40.537770\n",
      "Hungary               40.523196\n",
      "Pakistan              40.444043\n",
      "Brazil                40.389644\n",
      "Germany               40.238602\n",
      "Canada                40.180579\n",
      "Spain                 40.171396\n",
      "Australia             40.093513\n",
      "Colombia              39.966245\n",
      "Mexico                39.895833\n",
      "Italy                 39.832652\n",
      "New Zealand           39.724816\n",
      "Ireland               39.681818\n",
      "Philippines           39.665639\n",
      "United Kingdom        39.551176\n",
      "Portugal              39.384901\n",
      "Indonesia             38.195035\n",
      "Netherlands           38.120747\n",
      "Nigeria               37.979508\n",
      "Argentina             37.034483\n",
      "Name: WorkWeekHrs, dtype: float64\n"
     ]
    }
   ],
   "source": [
    "countries = data['Country'].value_counts()[data['Country'].value_counts() > 250].index # counting the developers who worked 250hr and more with respect to country\n",
    "\n",
    "highest_hours= data[data['Country'].isin(countries)].groupby('Country')['WorkWeekHrs'].mean().sort_values(ascending=False)\n",
    "\n",
    "print(\"countries do developers work the highest number of hour per week:\",highest_hours)"
   ]
  },
  {
   "cell_type": "markdown",
   "id": "4833a34f",
   "metadata": {},
   "source": [
    "## 4. Based on this survey, what will be the most desired programming language for the year 2020?"
   ]
  },
  {
   "cell_type": "code",
   "execution_count": 25,
   "id": "1c21a5cf",
   "metadata": {},
   "outputs": [
    {
     "name": "stdout",
     "output_type": "stream",
     "text": [
      "The most desired programming language for the year 2020: JavaScript\n"
     ]
    }
   ],
   "source": [
    "languages= data['LanguageDesireNextYear'].str.split(';', expand=True).stack() # spliting the languagedesirenextyear and taking them into a stack\n",
    "\n",
    "\n",
    "most_desired_language_2020 =languages.value_counts().idxmax() #calculating the max number of time a language occure\n",
    "\n",
    "print(\"The most desired programming language for the year 2020:\", most_desired_language_2020)\n"
   ]
  },
  {
   "cell_type": "markdown",
   "id": "30c9017e",
   "metadata": {},
   "source": [
    "## 5. What is the distribution of people who code as a hobby based on gender and continent (hint: use your mapping of country to continent)?"
   ]
  },
  {
   "cell_type": "code",
   "execution_count": 26,
   "id": "b0eb4c00",
   "metadata": {},
   "outputs": [
    {
     "name": "stdout",
     "output_type": "stream",
     "text": [
      "the distribution of people who code as a hobby on gender and continent:- Country      Gender                                                       Hobbyist\n",
      "Afghanistan  Man                                                          Yes          73.076923\n",
      "                                                                          No           26.923077\n",
      "             Non-binary, genderqueer, or gender non-conforming            Yes         100.000000\n",
      "             Woman                                                        No          100.000000\n",
      "             Woman;Man;Non-binary, genderqueer, or gender non-conforming  No          100.000000\n",
      "                                                                                         ...    \n",
      "Zambia       Man                                                          No            9.090909\n",
      "             Woman                                                        Yes         100.000000\n",
      "Zimbabwe     Man                                                          Yes          81.081081\n",
      "                                                                          No           18.918919\n",
      "             Woman                                                        Yes         100.000000\n",
      "Name: Hobbyist, Length: 848, dtype: float64\n"
     ]
    }
   ],
   "source": [
    "#note there is no column which contains continent so distribution is done taking the country \n",
    "distribution = data.groupby(['Country', 'Gender'])['Hobbyist'].value_counts(normalize=True) * 100 \n",
    "\n",
    "print(\"the distribution of people who code as a hobby on gender and continent:-\",distribution)"
   ]
  },
  {
   "cell_type": "markdown",
   "id": "d668e80c",
   "metadata": {},
   "source": [
    "## 6. Generate the report for job and career satisfaction of developer based on their gender and continent?"
   ]
  },
  {
   "cell_type": "code",
   "execution_count": 31,
   "id": "e8e03242",
   "metadata": {},
   "outputs": [
    {
     "name": "stdout",
     "output_type": "stream",
     "text": [
      "Job and career satisfaction of developers based on gender and country:\n",
      "CareerSat                                              Neither satisfied nor dissatisfied  \\\n",
      "Country     Gender JobSat                                                                   \n",
      "Afghanistan Man    Neither satisfied nor dissatisfied                            0.000000   \n",
      "                   Slightly dissatisfied                                         0.000000   \n",
      "                   Slightly satisfied                                           33.333333   \n",
      "                   Very dissatisfied                                             0.000000   \n",
      "                   Very satisfied                                                0.000000   \n",
      "...                                                                                   ...   \n",
      "Zimbabwe    Man    Neither satisfied nor dissatisfied                           25.000000   \n",
      "                   Slightly dissatisfied                                         0.000000   \n",
      "                   Slightly satisfied                                            0.000000   \n",
      "                   Very dissatisfied                                            33.333333   \n",
      "                   Very satisfied                                                0.000000   \n",
      "\n",
      "CareerSat                                              Slightly dissatisfied  \\\n",
      "Country     Gender JobSat                                                      \n",
      "Afghanistan Man    Neither satisfied nor dissatisfied                  100.0   \n",
      "                   Slightly dissatisfied                                75.0   \n",
      "                   Slightly satisfied                                    0.0   \n",
      "                   Very dissatisfied                                     0.0   \n",
      "                   Very satisfied                                        0.0   \n",
      "...                                                                      ...   \n",
      "Zimbabwe    Man    Neither satisfied nor dissatisfied                    0.0   \n",
      "                   Slightly dissatisfied                                25.0   \n",
      "                   Slightly satisfied                                    0.0   \n",
      "                   Very dissatisfied                                     0.0   \n",
      "                   Very satisfied                                        0.0   \n",
      "\n",
      "CareerSat                                              Slightly satisfied  \\\n",
      "Country     Gender JobSat                                                   \n",
      "Afghanistan Man    Neither satisfied nor dissatisfied            0.000000   \n",
      "                   Slightly dissatisfied                         0.000000   \n",
      "                   Slightly satisfied                            0.000000   \n",
      "                   Very dissatisfied                             0.000000   \n",
      "                   Very satisfied                               33.333333   \n",
      "...                                                                   ...   \n",
      "Zimbabwe    Man    Neither satisfied nor dissatisfied           75.000000   \n",
      "                   Slightly dissatisfied                        25.000000   \n",
      "                   Slightly satisfied                           40.000000   \n",
      "                   Very dissatisfied                            33.333333   \n",
      "                   Very satisfied                                0.000000   \n",
      "\n",
      "CareerSat                                              Very dissatisfied  \\\n",
      "Country     Gender JobSat                                                  \n",
      "Afghanistan Man    Neither satisfied nor dissatisfied           0.000000   \n",
      "                   Slightly dissatisfied                        0.000000   \n",
      "                   Slightly satisfied                           0.000000   \n",
      "                   Very dissatisfied                          100.000000   \n",
      "                   Very satisfied                               0.000000   \n",
      "...                                                                  ...   \n",
      "Zimbabwe    Man    Neither satisfied nor dissatisfied           0.000000   \n",
      "                   Slightly dissatisfied                       25.000000   \n",
      "                   Slightly satisfied                           0.000000   \n",
      "                   Very dissatisfied                           33.333333   \n",
      "                   Very satisfied                               0.000000   \n",
      "\n",
      "CareerSat                                              Very satisfied  \n",
      "Country     Gender JobSat                                              \n",
      "Afghanistan Man    Neither satisfied nor dissatisfied        0.000000  \n",
      "                   Slightly dissatisfied                    25.000000  \n",
      "                   Slightly satisfied                       66.666667  \n",
      "                   Very dissatisfied                         0.000000  \n",
      "                   Very satisfied                           66.666667  \n",
      "...                                                               ...  \n",
      "Zimbabwe    Man    Neither satisfied nor dissatisfied        0.000000  \n",
      "                   Slightly dissatisfied                    25.000000  \n",
      "                   Slightly satisfied                       60.000000  \n",
      "                   Very dissatisfied                         0.000000  \n",
      "                   Very satisfied                          100.000000  \n",
      "\n",
      "[1424 rows x 5 columns]\n"
     ]
    }
   ],
   "source": [
    "satisfaction_report = data.groupby(['Country', 'Gender', 'JobSat', 'CareerSat']).size().unstack(fill_value=0).apply(lambda x: x / x.sum() * 100, axis=1)\n",
    "\n",
    "print(\"Job and career satisfaction of developers based on gender and country:\")\n",
    "print(satisfaction_report)\n",
    "\n"
   ]
  },
  {
   "cell_type": "markdown",
   "id": "cc2eb67f",
   "metadata": {},
   "source": [
    "## 7. How important is it to start young to build a career in programming?"
   ]
  },
  {
   "cell_type": "markdown",
   "id": "ba1448fc",
   "metadata": {},
   "source": [
    "**The field of programming is constantly evolving, and the demand for skilled programmers is only increasing. As a result, it is more important than ever to start learning to code at a young age.\n",
    "There are many benefits to starting young in programming. For one, children's brains are more plastic and adaptable than adults' brains, making it easier for them to learn new concepts. Additionally, children who learn to code at a young age develop problem-solving and critical thinking skills that can be applied to other areas of their lives.\n",
    "Early exposure to coding can help children develop problem-solving and critical thinking skills. When children learn to code, they are forced to think logically and creatively to solve problems. This can help them develop these skills in other areas of their lives, such as math, science, and engineering.\n",
    "Coding can help children develop their creativity. When children learn to code, they are able to express themselves in new and innovative ways. They can create games, animations, and other interactive experiences that allow them to explore their imaginations.\n",
    "Coding can help children learn about technology. The world is becoming increasingly digital, and it is important for children to understand how technology works. Learning to code can give children a foundation in computer science and prepare them for a future in STEM fields.\n",
    "Coding can help children develop their confidence and self-esteem. When children learn to code and complete a project, they feel a sense of accomplishment. This can boost their confidence and self-esteem, which can lead to success in other areas of their lives.\n",
    "Coding can help children prepare for a career in STEM. The demand for skilled STEM professionals is growing, and coding is a valuable skill for anyone who wants to pursue a career in this field. By starting young, children can gain a head start on their STEM education and prepare themselves for a successful career.\n",
    "Starting young in programming can give children a head start in a rewarding and in-demand career. There are many benefits to learning to code at a young age, including developing problem-solving and critical thinking skills, boosting creativity, learning about technology, and gaining confidence and self-esteem. There are many ways to start learning to code at a young age, so find a method that works for your child and let them start coding today!**"
   ]
  },
  {
   "cell_type": "code",
   "execution_count": null,
   "id": "6d14be4f",
   "metadata": {},
   "outputs": [],
   "source": []
  }
 ],
 "metadata": {
  "kernelspec": {
   "display_name": "Python 3 (ipykernel)",
   "language": "python",
   "name": "python3"
  },
  "language_info": {
   "codemirror_mode": {
    "name": "ipython",
    "version": 3
   },
   "file_extension": ".py",
   "mimetype": "text/x-python",
   "name": "python",
   "nbconvert_exporter": "python",
   "pygments_lexer": "ipython3",
   "version": "3.11.4"
  }
 },
 "nbformat": 4,
 "nbformat_minor": 5
}
